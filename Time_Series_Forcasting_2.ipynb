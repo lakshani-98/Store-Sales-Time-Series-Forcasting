{
  "cells": [
    {
      "cell_type": "code",
      "execution_count": null,
      "metadata": {
        "colab": {
          "base_uri": "https://localhost:8080/"
        },
        "id": "yeNHuCrioY-b",
        "outputId": "6e59e0c2-fcd2-494c-8426-77b070f6a193"
      },
      "outputs": [],
      "source": [
        "!pip install catboost"
      ]
    },
    {
      "cell_type": "code",
      "execution_count": null,
      "metadata": {
        "colab": {
          "base_uri": "https://localhost:8080/"
        },
        "id": "D1YwyGkIpjM2",
        "outputId": "888f96fe-8b97-4177-999d-8ac7d7597034"
      },
      "outputs": [],
      "source": [
        "!pip install optuna --quiet"
      ]
    },
    {
      "cell_type": "code",
      "execution_count": null,
      "metadata": {
        "colab": {
          "base_uri": "https://localhost:8080/"
        },
        "id": "CKd1l0DttxSj",
        "outputId": "719efd19-5d15-41ca-d038-76111ecadf93"
      },
      "outputs": [],
      "source": [
        "pip install --upgrade scikit-learn"
      ]
    },
    {
      "cell_type": "code",
      "execution_count": null,
      "metadata": {
        "id": "9YXPGUnnOsxw"
      },
      "outputs": [],
      "source": [
        "import pandas as pd\n",
        "import numpy as np\n",
        "import lightgbm as lgb\n",
        "from sklearn.preprocessing import LabelEncoder\n",
        "from sklearn.metrics import mean_squared_error\n",
        "from google.colab import drive\n",
        "import matplotlib.pyplot as plt\n",
        "import seaborn as sns\n",
        "\n",
        "#Modeling\n",
        "from sklearn.model_selection import TimeSeriesSplit\n",
        "from sklearn.metrics import mean_squared_error\n",
        "\n",
        "#Advanced models\n",
        "import xgboost as xgb\n",
        "import lightgbm as lgb\n",
        "from catboost import CatBoostRegressor, Pool\n",
        "\n",
        "\n",
        "import optuna\n",
        "\n",
        "import warnings\n",
        "warnings.filterwarnings('ignore')"
      ]
    },
    {
      "cell_type": "code",
      "execution_count": null,
      "metadata": {
        "colab": {
          "base_uri": "https://localhost:8080/"
        },
        "id": "rJTdb9S7Owbx",
        "outputId": "1b703f52-e674-4c53-b48e-e0638b2bd13d"
      },
      "outputs": [],
      "source": [
        "drive.mount('/content/drive')"
      ]
    },
    {
      "cell_type": "code",
      "execution_count": null,
      "metadata": {
        "id": "y7Ui8618SBHe"
      },
      "outputs": [],
      "source": [
        "train_df = pd.read_csv(\"/content/drive/MyDrive/Colab Notebooks/Data Mining/store-sales-time-series-forecasting/train.csv\", parse_dates=[\"date\"])\n",
        "test_df = pd.read_csv(\"/content/drive/MyDrive/Colab Notebooks/Data Mining/store-sales-time-series-forecasting/test.csv\", parse_dates=[\"date\"])\n",
        "stores_df = pd.read_csv(\"/content/drive/MyDrive/Colab Notebooks/Data Mining/store-sales-time-series-forecasting/stores.csv\")\n",
        "oil_df = pd.read_csv(\"/content/drive/MyDrive/Colab Notebooks/Data Mining/store-sales-time-series-forecasting/oil.csv\", parse_dates=[\"date\"])\n",
        "holidays_df = pd.read_csv(\"/content/drive/MyDrive/Colab Notebooks/Data Mining/store-sales-time-series-forecasting/holidays_events.csv\", parse_dates=[\"date\"])\n",
        "submission_df = pd.read_csv(\"/content/drive/MyDrive/Colab Notebooks/Data Mining/store-sales-time-series-forecasting/sample_submission.csv\")"
      ]
    },
    {
      "cell_type": "markdown",
      "metadata": {
        "id": "V7LnPq1uPKzo"
      },
      "source": [
        "**1. Load Data**"
      ]
    },
    {
      "cell_type": "code",
      "execution_count": null,
      "metadata": {
        "id": "toqvN-XFO2Cc"
      },
      "outputs": [],
      "source": [
        "def load_data():\n",
        "  train = pd.read_csv(\"/content/drive/MyDrive/Colab Notebooks/Data Mining/store-sales-time-series-forecasting/train.csv\", parse_dates=[\"date\"])\n",
        "  test = pd.read_csv(\"/content/drive/MyDrive/Colab Notebooks/Data Mining/store-sales-time-series-forecasting/test.csv\", parse_dates=[\"date\"])\n",
        "  stores = pd.read_csv(\"/content/drive/MyDrive/Colab Notebooks/Data Mining/store-sales-time-series-forecasting/stores.csv\")\n",
        "  oil = pd.read_csv(\"/content/drive/MyDrive/Colab Notebooks/Data Mining/store-sales-time-series-forecasting/oil.csv\", parse_dates=[\"date\"])\n",
        "  holidays = pd.read_csv(\"/content/drive/MyDrive/Colab Notebooks/Data Mining/store-sales-time-series-forecasting/holidays_events.csv\", parse_dates=[\"date\"])\n",
        "  submission = pd.read_csv(\"/content/drive/MyDrive/Colab Notebooks/Data Mining/store-sales-time-series-forecasting/sample_submission.csv\")\n",
        "  return train, test, stores, oil, holidays, submission"
      ]
    },
    {
      "cell_type": "markdown",
      "metadata": {
        "id": "4eJsfW9ERX76"
      },
      "source": [
        "**Exploratory Data Analysis (EDA)**"
      ]
    },
    {
      "cell_type": "code",
      "execution_count": null,
      "metadata": {
        "id": "K1-zKkj-RXOy"
      },
      "outputs": [],
      "source": [
        "def basic_eda_info(df, name=\"DataFrame\"):\n",
        "\n",
        "    print(f\"=== {name}: Basic Information ===\")\n",
        "    print(f\"Shape: {df.shape}\")\n",
        "\n",
        "    print('='*60)\n",
        "    display(df.head())\n",
        "    print('='*60)\n",
        "    display(df.tail())\n",
        "\n",
        "    with pd.option_context('display.float_format', '{:,.2f}'.format):\n",
        "        print(\"Numeric Describe:\")\n",
        "        display(df.describe())\n",
        "\n",
        "    print('='*60)\n",
        "    print(\"Missing Values:\")\n",
        "    print(df.isna().sum())\n",
        "    print('='*60)"
      ]
    },
    {
      "cell_type": "code",
      "execution_count": null,
      "metadata": {
        "id": "Y_Sr0Qn0RdBQ"
      },
      "outputs": [],
      "source": [
        "basic_eda_info(train_df, name=\"Train\")"
      ]
    },
    {
      "cell_type": "code",
      "execution_count": null,
      "metadata": {
        "collapsed": true,
        "id": "IW586pxGRrUe"
      },
      "outputs": [],
      "source": [
        "basic_eda_info(test_df, name=\"Test\")"
      ]
    },
    {
      "cell_type": "code",
      "execution_count": null,
      "metadata": {
        "id": "j_Qy_ywNR2Yx"
      },
      "outputs": [],
      "source": [
        "def check_date_range(df, date_col='date'):\n",
        "\n",
        "    print(f\"Date range: {df[date_col].min()} to {df[date_col].max()}\")\n",
        "\n",
        "    total_days = (df[date_col].max() - df[date_col].min()).days + 1\n",
        "    unique_days = df[date_col].nunique()\n",
        "    print(f\"Total possible days in range: {total_days}, actual unique days: {unique_days}\")\n",
        "    print(\"=\"*60)"
      ]
    },
    {
      "cell_type": "code",
      "execution_count": null,
      "metadata": {
        "colab": {
          "base_uri": "https://localhost:8080/"
        },
        "id": "8-TGo0MLR4Tk",
        "outputId": "934ca2b3-b590-4b76-e3d0-87a6f32675bc"
      },
      "outputs": [],
      "source": [
        "check_date_range(train_df, 'date')\n",
        "check_date_range(test_df, 'date')"
      ]
    },
    {
      "cell_type": "code",
      "execution_count": null,
      "metadata": {
        "id": "lIrJFbDuSSFl"
      },
      "outputs": [],
      "source": [
        "def plot_sales_distribution(df, target_col='sales'):\n",
        "\n",
        "    fig, axes = plt.subplots(1, 2, figsize=(14,5))\n",
        "\n",
        "    sns.histplot(df[target_col], bins=50, kde=True, ax=axes[0])\n",
        "    axes[0].set_title(f\"Distribution of {target_col}\")\n",
        "\n",
        "    sns.boxplot(x=df[target_col], ax=axes[1])\n",
        "    axes[1].set_title(f\"Boxplot of {target_col}\")\n",
        "\n",
        "    plt.tight_layout()\n",
        "    plt.show()"
      ]
    },
    {
      "cell_type": "code",
      "execution_count": null,
      "metadata": {
        "colab": {
          "base_uri": "https://localhost:8080/",
          "height": 409
        },
        "id": "7MvpvWjkSTj_",
        "outputId": "0584e093-e960-4109-f1d8-e5bc91bd6a64"
      },
      "outputs": [],
      "source": [
        "plot_sales_distribution(train_df, 'sales')"
      ]
    },
    {
      "cell_type": "code",
      "execution_count": null,
      "metadata": {
        "id": "GUGVZ3SjS0fd"
      },
      "outputs": [],
      "source": [
        "def grouped_statistics(df, group_cols, value_col='sales', top_n=10):\n",
        "\n",
        "    group_stats = (\n",
        "        df.groupby(group_cols)[value_col]\n",
        "            .agg(\n",
        "                count='count',\n",
        "                mean='mean',\n",
        "                std='std',\n",
        "                min='min',\n",
        "                max='max',\n",
        "                median='median',\n",
        "                q1=lambda x: x.quantile(0.25),\n",
        "                q2=lambda x: x.quantile(0.75),\n",
        "                iqr=lambda x: x.quantile(0.75) - x.quantile(0.25)\n",
        "            ).reset_index()\n",
        "    )\n",
        "    group_stats_sorted = group_stats.sort_values('mean', ascending=False)\n",
        "\n",
        "    with pd.option_context('display.float_format', '{:,.2f}'.format):\n",
        "        print(f\"Grouped stats by {group_cols}:\")\n",
        "        display(group_stats_sorted.head(top_n))\n",
        "        print(\"=\"*60)"
      ]
    },
    {
      "cell_type": "code",
      "execution_count": null,
      "metadata": {
        "id": "ari1WK3nS3YX"
      },
      "outputs": [],
      "source": [
        "grouped_statistics(train_df, ['store_nbr'], 'sales', top_n=10)\n",
        "grouped_statistics(train_df, ['family'], 'sales', top_n=10)\n",
        "grouped_statistics(train_df, ['onpromotion'], 'sales', top_n=10)"
      ]
    },
    {
      "cell_type": "code",
      "execution_count": null,
      "metadata": {
        "id": "OvcO6iHbTWzC"
      },
      "outputs": [],
      "source": [
        "def plot_time_series(df, date_col='date', target_col='sales', agg='sum', title='Total Sales Over Time'):\n",
        "\n",
        "    if agg == 'sum':\n",
        "        daily = df.groupby(date_col)[target_col].sum().reset_index()\n",
        "    elif agg == 'mean':\n",
        "        daily = df.groupby(date_col)[target_col].mean().reset_index()\n",
        "    else:\n",
        "        raise ValueError(\"agg must be 'sum' or 'mean', or implement more if needed\")\n",
        "\n",
        "    daily = daily.sort_values(date_col)\n",
        "\n",
        "    plt.figure(figsize=(12,6))\n",
        "    plt.plot(daily[date_col], daily[target_col], marker='o', linestyle='-')\n",
        "    plt.title(title)\n",
        "    plt.xlabel=(date_col)\n",
        "    plt.ylabel(target_col)\n",
        "    plt.show()"
      ]
    },
    {
      "cell_type": "code",
      "execution_count": null,
      "metadata": {
        "colab": {
          "base_uri": "https://localhost:8080/",
          "height": 1000
        },
        "id": "rvk9HHCQTK2B",
        "outputId": "ae0cebdf-ca8a-45b5-9b85-f7a0dad70369"
      },
      "outputs": [],
      "source": [
        "plot_time_series(train_df, 'date', 'sales', agg='sum', title='Total Sum Of Sales (All Stores/Families) Over Time')\n",
        "plot_time_series(train_df, 'date', 'sales', agg='mean', title='Total Mean Of Sales (All Stores/Families) Over Time')"
      ]
    },
    {
      "cell_type": "code",
      "execution_count": null,
      "metadata": {
        "colab": {
          "base_uri": "https://localhost:8080/",
          "height": 423
        },
        "id": "ahcGWUljb1lr",
        "outputId": "191a053e-05b4-4cfa-b9b5-eb0505235535"
      },
      "outputs": [],
      "source": [
        "Q1 = train_df['sales'].quantile(0.25)\n",
        "Q3 = train_df['sales'].quantile(0.75)\n",
        "IQR = Q3 - Q1\n",
        "\n",
        "lower_bound = Q1 - 1.5 * IQR\n",
        "upper_bound = Q3 + 1.5 * IQR\n",
        "\n",
        "train_df['outlier_iqr'] = (train_df['sales'] < lower_bound) | (train_df['sales'] > upper_bound)\n",
        "\n",
        "outliers_df = train_df[train_df['outlier_iqr']]\n",
        "display(outliers_df)"
      ]
    },
    {
      "cell_type": "markdown",
      "metadata": {
        "id": "hB0GaGXdPKTS"
      },
      "source": [
        "**Data Cleaning**"
      ]
    },
    {
      "cell_type": "code",
      "execution_count": null,
      "metadata": {
        "colab": {
          "base_uri": "https://localhost:8080/",
          "height": 965
        },
        "id": "owpIByVDTopw",
        "outputId": "9591d20b-5167-433a-aafc-7a827cff88a0"
      },
      "outputs": [],
      "source": [
        "print(\"Missing in stores_df:\")\n",
        "print(stores_df.isnull().sum())\n",
        "\n",
        "print(\"stores_df:\")\n",
        "display(stores_df.head())\n",
        "\n",
        "print(\"Missing in oil_df:\")\n",
        "print(oil_df.isnull().sum())\n",
        "\n",
        "print(\"oil_df:\")\n",
        "display(oil_df.head())\n",
        "\n",
        "print(\"Missing in holidays_df:\")\n",
        "print(holidays_df.isnull().sum())\n",
        "\n",
        "print(\"holidays_df:\")\n",
        "display(holidays_df.head())"
      ]
    },
    {
      "cell_type": "markdown",
      "metadata": {
        "id": "feT9LOb8dP-H"
      },
      "source": [
        "Below code fills missing values in the 'dcoilwtico' (oil price) column using linear interpolation, estimating missing values based on surrounding data points in both forward and backward directions. Linear interpolation estimates missing values by drawing a straight line between the nearest known values. If a value is missing, it is filled by assuming a constant rate of change between the surrounding data points. For example, if oil prices on two consecutive days are 50 and 54, but the value for the day in between is missing, linear interpolation would fill it with 52.\n",
        "\n"
      ]
    },
    {
      "cell_type": "code",
      "execution_count": null,
      "metadata": {
        "colab": {
          "base_uri": "https://localhost:8080/",
          "height": 527
        },
        "id": "SGAiDDfrdRL-",
        "outputId": "8ce3c58e-e88c-420b-ff98-4eda4fc10d7f"
      },
      "outputs": [],
      "source": [
        "oil_df['dcoilwtico'] = oil_df['dcoilwtico'].interpolate(\n",
        "    methode='linear',\n",
        "    limit_direction='both'\n",
        ")\n",
        "print(\"Display oil_df:\")\n",
        "display(oil_df)\n",
        "\n",
        "print(\"--\"*50)\n",
        "\n",
        "print(\"Missing in oil_df:\")\n",
        "print(oil_df.isnull().sum())"
      ]
    },
    {
      "cell_type": "markdown",
      "metadata": {
        "id": "UwRwxbi5dp1v"
      },
      "source": [
        "**Feature Engineering**"
      ]
    },
    {
      "cell_type": "markdown",
      "metadata": {
        "id": "Xrv4H344fghA"
      },
      "source": [
        "train_df['is_train'] = 1:\n",
        "\n",
        "This line adds a new column is_train to the train_df DataFrame and sets all values in this column to 1.\n",
        "This column is used to indicate that the data comes from the training set.\n",
        "\n",
        "test_df['is_train'] = 0:\n",
        "\n",
        "This adds a new column is_train to the test_df DataFrame and sets all values in this column to 0.\n",
        "This column is used to indicate that the data comes from the test set.\n",
        "\n",
        "This code combines the training and test datasets into one DataFrame, adding identifiers for which rows belong to the training and which to the test set."
      ]
    },
    {
      "cell_type": "code",
      "execution_count": null,
      "metadata": {
        "colab": {
          "base_uri": "https://localhost:8080/"
        },
        "id": "elVCurMIdpEQ",
        "outputId": "e0bcbafc-3171-4e0e-a5b6-97168c3a30e7"
      },
      "outputs": [],
      "source": [
        "train_df['is_train'] = 1\n",
        "test_df['is_train'] = 0\n",
        "\n",
        "test_df['sales'] = np.nan\n",
        "\n",
        "full_df = pd.concat([train_df, test_df], ignore_index=True)\n",
        "print(\"Full data shape (train+test):\", full_df.shape)"
      ]
    },
    {
      "cell_type": "markdown",
      "metadata": {
        "id": "svQenVqkiyBv"
      },
      "source": [
        "After running this function:\n",
        "\n",
        "The full_df will have:\n",
        "Store metadata from stores_df.\n",
        "Oil prices from oil_df.\n",
        "Holiday information, where is_holiday will be 1 for holidays and 0 for regular days."
      ]
    },
    {
      "cell_type": "code",
      "execution_count": null,
      "metadata": {
        "colab": {
          "base_uri": "https://localhost:8080/",
          "height": 634
        },
        "id": "aAG9WJPii0Qr",
        "outputId": "5aed153d-2e31-418e-a4f9-6c7e51bafc4a"
      },
      "outputs": [],
      "source": [
        "def merge_data(df):\n",
        "\n",
        "    df = df.merge(stores_df, on='store_nbr', how='left')\n",
        "    df = df.merge(oil_df, on='date', how='left')\n",
        "\n",
        "    holidays_cp = holidays_df.copy()\n",
        "    holidays_cp['is_holiday'] = 1\n",
        "    holidays_cp = holidays_cp[['date','type','locale','locale_name','description','is_holiday']]\n",
        "    df = df.merge(holidays_cp, on='date', how='left')\n",
        "    df['is_holiday'].fillna(0, inplace=True)\n",
        "\n",
        "    return df\n",
        "\n",
        "full_df = merge_data(full_df)\n",
        "full_df"
      ]
    },
    {
      "cell_type": "markdown",
      "metadata": {
        "id": "gvK7juueZdvQ"
      },
      "source": [
        "This code extracts time-based features from the date column in full_df, which helps a machine learning model capture temporal patterns.\n",
        "\n",
        "Since dayofweek and month are cyclical (e.g., Monday comes after Sunday, and January follows December), we apply sine and cosine transformations to encode these relationships.\n",
        "\n",
        "Why use sine and cosine?\n",
        "\n",
        "Helps the model understand that Sunday (6) is close to Monday (0).\n",
        "\n",
        "Helps preserve the cyclical nature of months (December is close to January).\n",
        "\n",
        "Converts categorical time-based variables into a format that works well in machine learning models."
      ]
    },
    {
      "cell_type": "code",
      "execution_count": null,
      "metadata": {
        "colab": {
          "base_uri": "https://localhost:8080/",
          "height": 634
        },
        "id": "GpoFdFdIi6U8",
        "outputId": "35170ac5-4d07-426e-cd82-ac4557912484"
      },
      "outputs": [],
      "source": [
        "full_df['year'] = full_df['date'].dt.year\n",
        "full_df['month'] = full_df['date'].dt.month\n",
        "full_df['day'] = full_df['date'].dt.day\n",
        "full_df['dayofweek'] = full_df['date'].dt.dayofweek# Extracts the day of the week (0=Monday, 6=Sunday)\n",
        "full_df['dayofyear'] = full_df['date'].dt.dayofyear # Extracts the day of the year (1-365)\n",
        "full_df['weekofyear'] = full_df['date'].dt.isocalendar().week.astype(int)# Extracts the week number (1-53)\n",
        "\n",
        "full_df['dayofweek_sin'] = np.sin(2 * np.pi * full_df['dayofweek']/7)\n",
        "full_df['dayofweek_cos'] = np.cos(2 * np.pi * full_df['dayofweek']/7)\n",
        "full_df['month_sin'] = np.sin(2 * np.pi * full_df['month']/12)\n",
        "full_df['month_cos'] = np.cos(2 * np.pi * full_df['month']/12)\n",
        "\n",
        "full_df"
      ]
    },
    {
      "cell_type": "code",
      "execution_count": null,
      "metadata": {
        "colab": {
          "base_uri": "https://localhost:8080/"
        },
        "id": "C_djSprxYnRF",
        "outputId": "fa2adb1e-da70-4d7f-ee3a-d286454e2959"
      },
      "outputs": [],
      "source": [
        "full_df.columns"
      ]
    },
    {
      "cell_type": "markdown",
      "metadata": {
        "id": "D3teTTtGa_09"
      },
      "source": [
        "This code is used for detecting and marking outliers in the dataset based on a signature-matching approach. It first identifies outliers in the training set, creates a unique signature for each outlier, and then checks whether the same signatures exist in the full dataset (including both training and test sets).\n",
        "\n",
        "This process identifies and flags outliers (is_outlier = True) in both train and test datasets.\n",
        "Ensures that any pattern found as an outlier in training is applied consistently across the dataset."
      ]
    },
    {
      "cell_type": "code",
      "execution_count": null,
      "metadata": {
        "colab": {
          "base_uri": "https://localhost:8080/",
          "height": 359
        },
        "id": "IGwEpqznaDQl",
        "outputId": "28734203-e32f-4b6b-b19f-1bf9b57fcf38"
      },
      "outputs": [],
      "source": [
        "MATCH_COLS = [\n",
        "    'store_nbr', 'family', 'onpromotion',\n",
        "    'city', 'state', 'type_x', 'cluster', 'dcoilwtico',\n",
        "    'type_y', 'locale', 'locale_name', 'description',\n",
        "    'is_holiday', 'month', 'day', 'dayofweek',\n",
        "    'dayofyear', 'weekofyear', 'dayofweek_sin',\n",
        "    'dayofweek_cos', 'month_sin', 'month_cos'\n",
        "]\n",
        "\n",
        "# 1) Filter train outliers (where 'is_train'==1)\n",
        "train_outliers = full_df[(full_df['outlier_iqr'] == True) & (full_df['is_train'] == 1)]\n",
        "\n",
        "# 2) Create a single \"signature\" column in the outlier subset\n",
        "#    Convert each MATCH_COL to string, then join them with a special delimiter.\n",
        "train_outliers['signature'] = train_outliers[MATCH_COLS].astype(str).apply(lambda row: '_'.join(row), axis=1)\n",
        "\n",
        "# 3) Build a set of signatures\n",
        "outlier_signatures = set(train_outliers['signature'].tolist())\n",
        "\n",
        "print(f\"Number of unique outlier signatures in train: {len(outlier_signatures)}\")\n",
        "\n",
        "# 4) Now build the signature for *all* rows (train+test) in full_df\n",
        "full_df['signature'] = full_df[MATCH_COLS].astype(str).apply(lambda row: '_'.join(row), axis=1)\n",
        "\n",
        "# 5) Finally, check membership with .isin(...)\n",
        "full_df['is_outlier'] = full_df['signature'].isin(outlier_signatures)\n",
        "\n",
        "# (Optionally, drop the temporary columns if you like)\n",
        "# full_df.drop(columns=['signature'], inplace=True)\n",
        "\n",
        "full_df.drop(columns=['signature', 'outlier_iqr'], inplace=True)\n",
        "\n",
        "display(full_df.head())"
      ]
    },
    {
      "cell_type": "markdown",
      "metadata": {
        "id": "lkwREM7_ds70"
      },
      "source": [
        "This code converts categorical columns into numerical codes and maps holiday types to numeric values. First, it iterates through a list of categorical columns such as 'family', 'city', 'state', and others, converting each into numeric codes using .astype('category').cat.codes, which assigns a unique integer to each category for machine learning compatibility. Next, it creates a mapping of unique holiday types from the holidays_df dataframe by assigning each type a numerical index. This mapping is then used to transform the 'type_y' column in full_df into corresponding numerical values. If any holiday type is missing (NaN), it means there was no matching holiday type for that row."
      ]
    },
    {
      "cell_type": "code",
      "execution_count": null,
      "metadata": {
        "colab": {
          "base_uri": "https://localhost:8080/",
          "height": 617
        },
        "id": "kiPBiYCAdC1P",
        "outputId": "7afc68ad-ef05-416e-83d1-75bd7860a845"
      },
      "outputs": [],
      "source": [
        "cat_cols = ['family', 'city', 'state', 'type_x', 'type_y', 'locale', 'locale_name', 'description', 'is_outlier']\n",
        "for col in cat_cols:\n",
        "    full_df[col] = full_df[col].astype('category').cat.codes\n",
        "\n",
        "holiday_types = holidays_df['type'].unique().tolist()\n",
        "type_map = {t: i for i, t in enumerate(holiday_types)}\n",
        "full_df['holiday_type'] = full_df['type_y'].map(type_map)\n",
        "\n",
        "full_df"
      ]
    },
    {
      "cell_type": "markdown",
      "metadata": {
        "id": "MHyMfc9jdzJS"
      },
      "source": [
        " Final Features Selection"
      ]
    },
    {
      "cell_type": "code",
      "execution_count": null,
      "metadata": {
        "colab": {
          "base_uri": "https://localhost:8080/"
        },
        "id": "j8N_uaDBdyp5",
        "outputId": "8f31e879-a949-4e54-e600-eaa1a9cfbe89"
      },
      "outputs": [],
      "source": [
        "train_final = full_df[full_df['is_train'] == 1].copy()\n",
        "test_final  = full_df[full_df['is_train'] == 0].copy()\n",
        "print(\"train_final shape:\", train_final.shape)\n",
        "print(\"test_final shape :\", test_final.shape)"
      ]
    },
    {
      "cell_type": "code",
      "execution_count": null,
      "metadata": {
        "colab": {
          "base_uri": "https://localhost:8080/",
          "height": 971
        },
        "id": "ngp3sS6kd_DW",
        "outputId": "5abf7bf5-dd89-4a9e-8fbc-6ffe4d4e6bff"
      },
      "outputs": [],
      "source": [
        "features = [\n",
        "    'store_nbr', 'family', 'onpromotion', 'city','state','type_x','type_y','cluster',\n",
        "    'dcoilwtico', 'is_holiday', 'holiday_type',\n",
        "    'year', 'month', 'day', 'dayofweek', 'dayofyear', 'weekofyear',\n",
        "    'dayofweek_sin','dayofweek_cos','month_sin','month_cos','is_outlier'\n",
        "]\n",
        "\n",
        "target = 'sales'\n",
        "\n",
        "train_final = train_final.sort_values(by=['date','store_nbr','family']).reset_index(drop=True)\n",
        "X = train_final[features]\n",
        "y = np.log1p(train_final[target])\n",
        "\n",
        "print('X (features):')\n",
        "display(X)\n",
        "print('')\n",
        "print('--'*50)\n",
        "print('')\n",
        "print('y (target):')\n",
        "display(y)"
      ]
    },
    {
      "cell_type": "markdown",
      "metadata": {
        "id": "p77BGoMGn4gq"
      },
      "source": [
        "**Time-Based Cross-Validation**"
      ]
    },
    {
      "cell_type": "markdown",
      "metadata": {
        "id": "uCOpWLP0pBGD"
      },
      "source": [
        "This code performs time series cross-validation using TimeSeriesSplit. It splits the dataset (X, y) into 3 sequential train-validation splits while maintaining the time order. In each fold:\n",
        "\n",
        "train_idx contains the indices of the training data for that fold.\n",
        "val_idx contains the indices of the validation data for that fold.\n",
        "The sizes of both sets are printed for each fold."
      ]
    },
    {
      "cell_type": "code",
      "execution_count": null,
      "metadata": {
        "colab": {
          "base_uri": "https://localhost:8080/"
        },
        "id": "WNd0cToqn6fk",
        "outputId": "1ae4be72-0207-48ae-81df-61bea1476941"
      },
      "outputs": [],
      "source": [
        "tscv = TimeSeriesSplit(n_splits=3)\n",
        "\n",
        "for fold, (train_idx, val_idx) in enumerate(tscv.split(X,y)):\n",
        "    print(f\"Fold {fold}\")\n",
        "    print(f\"Train size : {len(train_idx)} | Validation size : {len(val_idx)}\")"
      ]
    },
    {
      "cell_type": "markdown",
      "metadata": {
        "id": "N3A7ghWSpCf_"
      },
      "source": [
        "**Modeling**"
      ]
    },
    {
      "cell_type": "markdown",
      "metadata": {
        "id": "ugvMJPazsLQw"
      },
      "source": [
        "**XGBoost Model**"
      ]
    },
    {
      "cell_type": "markdown",
      "metadata": {
        "id": "NclBLaL-r8Vp"
      },
      "source": [
        "This code defines an objective function for tuning XGBoost hyperparameters using Optuna and TimeSeriesSplit for cross-validation."
      ]
    },
    {
      "cell_type": "code",
      "execution_count": null,
      "metadata": {
        "colab": {
          "base_uri": "https://localhost:8080/"
        },
        "id": "iEIvzH92pFfo",
        "outputId": "375d7a5d-e81b-4e63-bb44-d96fdf2ed094"
      },
      "outputs": [],
      "source": [
        "def objective_xgb(trial):\n",
        "    \"\"\"\n",
        "    Objective function for Optuna hyperparameter tuning of XGBoost.\n",
        "    \"\"\"\n",
        "\n",
        "    # Suggest hyperparameters\n",
        "    param = {\n",
        "        'objective': 'reg:squarederror',\n",
        "        'tree_method': 'hist',  # if GPU is available, else use 'hist'\n",
        "        'n_estimators': trial.suggest_int('n_estimators', 100, 1000),\n",
        "        'max_depth': trial.suggest_int('max_depth', 3, 12),\n",
        "        'learning_rate': trial.suggest_float('learning_rate', 1e-4, 0.3, log=True),\n",
        "        'subsample': trial.suggest_float('subsample', 0.5, 1.0),\n",
        "        'colsample_bytree': trial.suggest_float('colsample_bytree', 0.5, 1.0),\n",
        "        'gamma': trial.suggest_float('gamma', 0, 10),\n",
        "        'min_child_weight': trial.suggest_int('min_child_weight', 1, 300),\n",
        "        'early_stopping_rounds':50\n",
        "    }\n",
        "\n",
        "    rmse_scores = []\n",
        "\n",
        "    # Time series cross-validation\n",
        "    tscv = TimeSeriesSplit(n_splits=3)\n",
        "    for train_idx, val_idx in tscv.split(X, y):\n",
        "        X_train, X_val = X.iloc[train_idx], X.iloc[val_idx]\n",
        "        y_train, y_val = y.iloc[train_idx], y.iloc[val_idx]\n",
        "\n",
        "        model = xgb.XGBRegressor(**param)\n",
        "        model.fit(X_train, y_train,\n",
        "                  eval_set=[(X_val, y_val)],\n",
        "                  verbose=False)\n",
        "\n",
        "        y_pred = model.predict(X_val)\n",
        "        y_pred = np.expm1(y_pred)\n",
        "        y_val = np.expm1(y_val)\n",
        "        rmse = np.sqrt(mean_squared_error(y_val, y_pred))\n",
        "        rmse_scores.append(rmse)\n",
        "\n",
        "    return np.mean(rmse_scores)\n",
        "\n",
        "study_xgb = optuna.create_study(direction='minimize')\n",
        "study_xgb.optimize(objective_xgb, n_trials=5)\n",
        "\n",
        "print(\"XGBoost best params:\", study_xgb.best_params)\n",
        "print(\"XGBoost best score:\", study_xgb.best_value)"
      ]
    },
    {
      "cell_type": "code",
      "execution_count": null,
      "metadata": {
        "id": "eOP56mrKZ9bI"
      },
      "outputs": [],
      "source": [
        "import json\n",
        "\n",
        "# Save best parameters to a JSON file\n",
        "with open(\"best_xgb_params.json\", \"w\") as f:\n",
        "    json.dump(study_xgb.best_params, f)\n"
      ]
    },
    {
      "cell_type": "markdown",
      "metadata": {
        "id": "UauupqsusGd1"
      },
      "source": [
        "Train Final XGBoost Model with Best Params"
      ]
    },
    {
      "cell_type": "code",
      "execution_count": null,
      "metadata": {
        "colab": {
          "base_uri": "https://localhost:8080/",
          "height": 257
        },
        "id": "ZwNvAWaX3c9s",
        "outputId": "bb08a3cd-87a9-499c-d98e-899440010d72"
      },
      "outputs": [],
      "source": [
        "import json\n",
        "with open(\"best_xgb_params.json\", \"r\") as f:\n",
        "    best_xgb_params = json.load(f)\n",
        "\n",
        "# Initialize and train the model with the loaded parameters\n",
        "final_xgb = xgb.XGBRegressor(**best_xgb_params)\n",
        "final_xgb.fit(X, y)"
      ]
    },
    {
      "cell_type": "code",
      "execution_count": null,
      "metadata": {
        "id": "lz7DjvjysAQQ"
      },
      "outputs": [],
      "source": [
        "best_xgb_params = study_xgb.best_params\n",
        "final_xgb = xgb.XGBRegressor(**best_xgb_params)\n",
        "final_xgb.fit(X, y)"
      ]
    },
    {
      "cell_type": "markdown",
      "metadata": {
        "id": "YCJnpV6QsZub"
      },
      "source": [
        "**LightGBM Model**"
      ]
    },
    {
      "cell_type": "code",
      "execution_count": null,
      "metadata": {
        "colab": {
          "base_uri": "https://localhost:8080/"
        },
        "id": "gku4mhZtsdCe",
        "outputId": "ff98a9e6-2837-4a21-a62d-d2ecbfbec324"
      },
      "outputs": [],
      "source": [
        "def objective_lgb(trial):\n",
        "    param = {\n",
        "        'objective': 'regression',\n",
        "        'metric': 'rmse',\n",
        "        'verbosity': -1,\n",
        "        'boosting_type': 'gbdt',\n",
        "        'n_estimators': trial.suggest_int('n_estimators', 100, 1000),\n",
        "        'learning_rate': trial.suggest_float('learning_rate', 1e-4, 0.3, log=True),\n",
        "        'num_leaves': trial.suggest_int('num_leaves', 2, 256),\n",
        "        'max_depth': trial.suggest_int('max_depth', 3, 12),\n",
        "        'subsample': trial.suggest_float('subsample', 0.5, 1.0),\n",
        "        'colsample_bytree': trial.suggest_float('colsample_bytree', 0.5, 1.0)\n",
        "    }\n",
        "\n",
        "    rmse_scores = []\n",
        "    tscv = TimeSeriesSplit(n_splits=3)\n",
        "    for train_idx, val_idx in tscv.split(X, y):\n",
        "        X_train, X_val = X.iloc[train_idx], X.iloc[val_idx]\n",
        "        y_train, y_val = y.iloc[train_idx], y.iloc[val_idx]\n",
        "\n",
        "        lgb_train = lgb.Dataset(X_train, label=y_train)\n",
        "        lgb_val = lgb.Dataset(X_val, label=y_val)\n",
        "\n",
        "        model = lgb.LGBMRegressor(**param)\n",
        "        model.fit(\n",
        "            X_train, y_train,\n",
        "            eval_set=[(X_val, y_val)],\n",
        "            eval_metric='rmse',\n",
        "            callbacks=[lgb.early_stopping(50)]\n",
        "        )\n",
        "\n",
        "        y_pred = model.predict(X_val)\n",
        "        y_pred = np.expm1(y_pred)\n",
        "        y_val = np.expm1(y_val)\n",
        "        rmse = np.sqrt(mean_squared_error(y_val, y_pred))\n",
        "        rmse_scores.append(rmse)\n",
        "\n",
        "    return np.mean(rmse_scores)\n",
        "\n",
        "study_lgb = optuna.create_study(direction='minimize')\n",
        "study_lgb.optimize(objective_lgb, n_trials=5)\n",
        "print(\"LGBM best params:\", study_lgb.best_params)\n",
        "print(\"LGBM best score:\", study_lgb.best_value)"
      ]
    },
    {
      "cell_type": "code",
      "execution_count": null,
      "metadata": {
        "id": "IOwpQLvwhIMh"
      },
      "outputs": [],
      "source": [
        "# Save best parameters to a JSON file\n",
        "with open(\"lgb_best_params.json\", \"w\") as f:\n",
        "    json.dump(study_lgb.best_params, f)\n"
      ]
    },
    {
      "cell_type": "code",
      "execution_count": null,
      "metadata": {
        "colab": {
          "base_uri": "https://localhost:8080/",
          "height": 115
        },
        "id": "ym5dBPxqsuaD",
        "outputId": "56c63840-e928-4191-bc2f-d0a7b3802e60"
      },
      "outputs": [],
      "source": [
        "best_lgb_params = study_lgb.best_params\n",
        "final_lgb = lgb.LGBMRegressor(**best_lgb_params)\n",
        "final_lgb.fit(X, y)"
      ]
    },
    {
      "cell_type": "code",
      "execution_count": null,
      "metadata": {
        "colab": {
          "base_uri": "https://localhost:8080/",
          "height": 257
        },
        "id": "ITFch_KA5Gl1",
        "outputId": "a0904e9d-4282-4020-8a5a-0ddf168efbb7"
      },
      "outputs": [],
      "source": [
        "import json\n",
        "with open(\"lgb_best_params.json\", \"r\") as f:\n",
        "    lgb_best_params = json.load(f)\n",
        "\n",
        "# Initialize and train the model with the loaded parameters\n",
        "final_lgb = xgb.XGBRegressor(**lgb_best_params)\n",
        "final_lgb.fit(X, y)"
      ]
    },
    {
      "cell_type": "markdown",
      "metadata": {
        "id": "cJgwcmoYs0jj"
      },
      "source": [
        "**CatBoost Model**"
      ]
    },
    {
      "cell_type": "code",
      "execution_count": null,
      "metadata": {
        "colab": {
          "base_uri": "https://localhost:8080/",
          "height": 208,
          "referenced_widgets": [
            "abe299362ac240c1ac2120d3ba09d98c",
            "0e1fbd520e6340f988a86587c04288fa",
            "5224228b2eb24aabb4fc862928ba3927",
            "bac817d8105046b296549f6f95589b59",
            "57b90ad0264c4b42af3d02b7c54471cf",
            "69cdd937ff0a4786a9ed3824daf6f92d",
            "5e8b89f78c5a426c9d52be4dd9ad6ac5",
            "4beca4a49af74c328a1087c1e390eb44",
            "291d5413a8cd4ebcb5d029f7a57036a5",
            "c168b3b9b8744a97aa762508ad225a7b",
            "3cac6b767cdb4dd0891dea2d6ffe6470"
          ]
        },
        "id": "8SU-MTiYs1sy",
        "outputId": "c963a2e9-8689-4713-af86-3d93fde9c945"
      },
      "outputs": [],
      "source": [
        "def objective_cat(trial):\n",
        "    param = {\n",
        "        \"iterations\": trial.suggest_int(\"iterations\", 100, 1000),\n",
        "        \"learning_rate\": trial.suggest_float(\"learning_rate\", 1e-4, 0.3, log=True),\n",
        "        \"depth\": trial.suggest_int(\"depth\", 3, 10),\n",
        "        \"l2_leaf_reg\": trial.suggest_float(\"l2_leaf_reg\", 1.0, 10.0),\n",
        "        \"bagging_temperature\": trial.suggest_float(\"bagging_temperature\", 0.0, 1.0),\n",
        "        \"loss_function\": \"RMSE\",\n",
        "        \"verbose\": False,\n",
        "    }\n",
        "\n",
        "    rmse_scores = []\n",
        "\n",
        "    tscv = TimeSeriesSplit(n_splits=3)  # or any other CV strategy\n",
        "    for train_idx, val_idx in tscv.split(X, y):\n",
        "        X_train, X_val = X.iloc[train_idx], X.iloc[val_idx]\n",
        "        y_train, y_val = y.iloc[train_idx], y.iloc[val_idx]\n",
        "\n",
        "        train_pool = Pool(X_train, label=y_train)\n",
        "        val_pool = Pool(X_val, label=y_val)\n",
        "\n",
        "        model = CatBoostRegressor(**param)\n",
        "        model.fit(train_pool, eval_set=val_pool, early_stopping_rounds=50, verbose=False)\n",
        "\n",
        "        y_pred = model.predict(X_val)\n",
        "        y_pred = np.expm1(y_pred)\n",
        "        y_val = np.expm1(y_val)\n",
        "        rmse = np.sqrt(mean_squared_error(y_val, y_pred))\n",
        "        rmse_scores.append(rmse)\n",
        "\n",
        "\n",
        "    return np.mean(rmse_scores)\n",
        "\n",
        "study_cat = optuna.create_study(direction=\"minimize\", study_name=\"catboost-tuning\")\n",
        "study_cat.optimize(objective_cat, n_trials=5, show_progress_bar=True)\n",
        "print(\"CatBoost best params:\", study_cat.best_params)\n",
        "print(\"CatBoost best score:\", study_cat.best_value)"
      ]
    },
    {
      "cell_type": "code",
      "execution_count": null,
      "metadata": {
        "id": "kMl13ZPkp27l"
      },
      "outputs": [],
      "source": [
        "# Save best parameters to a JSON file\n",
        "with open(\"cat_best_params.json\", \"w\") as f:\n",
        "    json.dump(study_cat.best_params, f)"
      ]
    },
    {
      "cell_type": "code",
      "execution_count": null,
      "metadata": {
        "colab": {
          "base_uri": "https://localhost:8080/"
        },
        "id": "Wurki4mQu7P1",
        "outputId": "dd996068-0d79-4aa9-a378-9e3ad36d1ec7"
      },
      "outputs": [],
      "source": [
        "best_cat_params = study_cat.best_params\n",
        "final_cat_model = CatBoostRegressor(**best_cat_params)\n",
        "final_cat_model.fit(X, y, verbose=False)"
      ]
    },
    {
      "cell_type": "code",
      "execution_count": null,
      "metadata": {
        "colab": {
          "base_uri": "https://localhost:8080/",
          "height": 253
        },
        "id": "lN047abP-qv4",
        "outputId": "09d09d15-3751-4482-e48f-6b8be16adf3c"
      },
      "outputs": [],
      "source": [
        "import json\n",
        "with open(\"cat_best_params.json\", \"r\") as f:\n",
        "    cat_best_params = json.load(f)\n",
        "\n",
        "# Initialize and train the model with the loaded parameters\n",
        "final_cat_model = xgb.XGBRegressor(**cat_best_params)\n",
        "final_cat_model.fit(X, y)"
      ]
    },
    {
      "cell_type": "code",
      "execution_count": null,
      "metadata": {
        "id": "C9bXHgYcE_MX"
      },
      "outputs": [],
      "source": [
        "xgb_preds_log = \"\"\n",
        "lgb_preds_log = \"\"\n",
        "cat_preds_log = \"\""
      ]
    },
    {
      "cell_type": "markdown",
      "metadata": {
        "id": "SqY4so7wvezG"
      },
      "source": [
        "**Ensembling**\n",
        "\n",
        "This code gets predictions from three models (XGBoost, LightGBM, CatBoost).\n",
        "Converts predictions from log scale to the original scale.\n",
        "Averages the predictions to create an ensemble model.\n",
        "Computes RMSE to evaluate the ensemble's performance."
      ]
    },
    {
      "cell_type": "code",
      "execution_count": null,
      "metadata": {
        "colab": {
          "base_uri": "https://localhost:8080/",
          "height": 373
        },
        "id": "vClZoCeTvCV1",
        "outputId": "0c05e852-3b16-4ae6-c9be-6f9d0781c1cf"
      },
      "outputs": [],
      "source": [
        "xgb_preds_log = final_xgb.predict(X)\n",
        "lgb_preds_log = final_lgb.predict(X)\n",
        "cat_preds_log = final_cat_model.predict(X)\n",
        "\n",
        "xgb_preds_log = np.clip(xgb_preds_log, -20, 20)\n",
        "lgb_preds_log = np.clip(lgb_preds_log, -20, 20)\n",
        "cat_preds_log = np.clip(cat_preds_log, -20, 20)\n",
        "\n",
        "xgb_preds = np.expm1(xgb_preds_log)\n",
        "lgb_preds = np.expm1(lgb_preds_log)\n",
        "cat_preds = np.expm1(cat_preds_log)\n",
        "\n",
        "ensemble_preds = (xgb_preds + lgb_preds + cat_preds)/3\n",
        "\n",
        "y = np.expm1(y)\n",
        "\n",
        "mse = mean_squared_error(y, ensemble_preds)\n",
        "ensemble_rmse = np.sqrt(mse)\n",
        "print(\"Ensemble RMSE (on full training set): \", ensemble_rmse)"
      ]
    },
    {
      "cell_type": "code",
      "execution_count": null,
      "metadata": {
        "colab": {
          "base_uri": "https://localhost:8080/",
          "height": 373
        },
        "id": "vcIspF_OoVz8",
        "outputId": "1ace5a00-53a5-4960-a88c-6d30583ddc10"
      },
      "outputs": [],
      "source": [
        "xgb_preds_log = final_xgb.predict(X)\n",
        "lgb_preds_log = final_lgb.predict(X)\n",
        "cat_preds_log = final_cat_model.predict(X)\n",
        "\n",
        "xgb_preds = np.expm1(xgb_preds_log)\n",
        "lgb_preds = np.expm1(lgb_preds_log)\n",
        "cat_preds = np.expm1(cat_preds_log)\n",
        "\n",
        "ensemble_preds = (xgb_preds + lgb_preds + cat_preds)/3\n",
        "\n",
        "y = np.expm1(y)\n",
        "\n",
        "mse = mean_squared_error(y, ensemble_preds)\n",
        "ensemble_rmse = np.sqrt(mse)\n",
        "print(\"Ensemble RMSE (on full training set): \", ensemble_rmse)"
      ]
    },
    {
      "cell_type": "markdown",
      "metadata": {
        "id": "jwkIotIcv9II"
      },
      "source": [
        "**Prediction and Submission**"
      ]
    },
    {
      "cell_type": "code",
      "execution_count": null,
      "metadata": {
        "colab": {
          "base_uri": "https://localhost:8080/",
          "height": 443
        },
        "id": "FKX-qAEav-i3",
        "outputId": "ff0ec51b-30ae-416f-c61d-900ebe8d3a73"
      },
      "outputs": [],
      "source": [
        "test_final = test_final.sort_values(by=['date','store_nbr','family']).reset_index(drop=True)\n",
        "X_test = test_final[features].copy()\n",
        "X_test"
      ]
    },
    {
      "cell_type": "code",
      "execution_count": null,
      "metadata": {
        "colab": {
          "base_uri": "https://localhost:8080/",
          "height": 724
        },
        "id": "ce12KRJAx0q7",
        "outputId": "ee158c1b-a787-4bf5-99ef-733a719e853a"
      },
      "outputs": [],
      "source": [
        "xgb_test_preds_log = final_xgb.predict(X_test)\n",
        "lgb_test_preds_log = final_lgb.predict(X_test)\n",
        "cat_test_preds_log = final_cat_model.predict(X_test)\n",
        "\n",
        "xgb_test_preds = np.expm1(xgb_test_preds_log)\n",
        "lgb_test_preds = np.expm1(lgb_test_preds_log)\n",
        "cat_test_preds = np.expm1(cat_test_preds_log)\n",
        "\n",
        "ensemble_test_preds = (xgb_test_preds + xgb_test_preds + xgb_test_preds)/3\n",
        "\n",
        "submission_df = test_df[['id']].copy()\n",
        "submission_df['sales'] = ensemble_test_preds\n",
        "\n",
        "display(submission_df)\n",
        "print(\"--\"*50)\n",
        "display(submission_df.describe())"
      ]
    },
    {
      "cell_type": "code",
      "execution_count": null,
      "metadata": {
        "colab": {
          "base_uri": "https://localhost:8080/"
        },
        "id": "O5E_SNULx3BE",
        "outputId": "cae7f8df-77e7-48e1-aab6-9caaea414f90"
      },
      "outputs": [],
      "source": [
        "submission_df.to_csv('submission.csv', index=False)\n",
        "print(\"Submission file created: submission.csv\")"
      ]
    }
  ],
  "metadata": {
    "colab": {
      "provenance": []
    },
    "kernelspec": {
      "display_name": "base",
      "language": "python",
      "name": "python3"
    },
    "language_info": {
      "codemirror_mode": {
        "name": "ipython",
        "version": 3
      },
      "file_extension": ".py",
      "mimetype": "text/x-python",
      "name": "python",
      "nbconvert_exporter": "python",
      "pygments_lexer": "ipython3",
      "version": "3.12.3"
    },
    "widgets": {
      "application/vnd.jupyter.widget-state+json": {
        "0e1fbd520e6340f988a86587c04288fa": {
          "model_module": "@jupyter-widgets/controls",
          "model_module_version": "1.5.0",
          "model_name": "HTMLModel",
          "state": {
            "_dom_classes": [],
            "_model_module": "@jupyter-widgets/controls",
            "_model_module_version": "1.5.0",
            "_model_name": "HTMLModel",
            "_view_count": null,
            "_view_module": "@jupyter-widgets/controls",
            "_view_module_version": "1.5.0",
            "_view_name": "HTMLView",
            "description": "",
            "description_tooltip": null,
            "layout": "IPY_MODEL_69cdd937ff0a4786a9ed3824daf6f92d",
            "placeholder": "​",
            "style": "IPY_MODEL_5e8b89f78c5a426c9d52be4dd9ad6ac5",
            "value": "Best trial: 3. Best value: 671.969: 100%"
          }
        },
        "291d5413a8cd4ebcb5d029f7a57036a5": {
          "model_module": "@jupyter-widgets/controls",
          "model_module_version": "1.5.0",
          "model_name": "ProgressStyleModel",
          "state": {
            "_model_module": "@jupyter-widgets/controls",
            "_model_module_version": "1.5.0",
            "_model_name": "ProgressStyleModel",
            "_view_count": null,
            "_view_module": "@jupyter-widgets/base",
            "_view_module_version": "1.2.0",
            "_view_name": "StyleView",
            "bar_color": null,
            "description_width": ""
          }
        },
        "3cac6b767cdb4dd0891dea2d6ffe6470": {
          "model_module": "@jupyter-widgets/controls",
          "model_module_version": "1.5.0",
          "model_name": "DescriptionStyleModel",
          "state": {
            "_model_module": "@jupyter-widgets/controls",
            "_model_module_version": "1.5.0",
            "_model_name": "DescriptionStyleModel",
            "_view_count": null,
            "_view_module": "@jupyter-widgets/base",
            "_view_module_version": "1.2.0",
            "_view_name": "StyleView",
            "description_width": ""
          }
        },
        "4beca4a49af74c328a1087c1e390eb44": {
          "model_module": "@jupyter-widgets/base",
          "model_module_version": "1.2.0",
          "model_name": "LayoutModel",
          "state": {
            "_model_module": "@jupyter-widgets/base",
            "_model_module_version": "1.2.0",
            "_model_name": "LayoutModel",
            "_view_count": null,
            "_view_module": "@jupyter-widgets/base",
            "_view_module_version": "1.2.0",
            "_view_name": "LayoutView",
            "align_content": null,
            "align_items": null,
            "align_self": null,
            "border": null,
            "bottom": null,
            "display": null,
            "flex": null,
            "flex_flow": null,
            "grid_area": null,
            "grid_auto_columns": null,
            "grid_auto_flow": null,
            "grid_auto_rows": null,
            "grid_column": null,
            "grid_gap": null,
            "grid_row": null,
            "grid_template_areas": null,
            "grid_template_columns": null,
            "grid_template_rows": null,
            "height": null,
            "justify_content": null,
            "justify_items": null,
            "left": null,
            "margin": null,
            "max_height": null,
            "max_width": null,
            "min_height": null,
            "min_width": null,
            "object_fit": null,
            "object_position": null,
            "order": null,
            "overflow": null,
            "overflow_x": null,
            "overflow_y": null,
            "padding": null,
            "right": null,
            "top": null,
            "visibility": null,
            "width": null
          }
        },
        "5224228b2eb24aabb4fc862928ba3927": {
          "model_module": "@jupyter-widgets/controls",
          "model_module_version": "1.5.0",
          "model_name": "FloatProgressModel",
          "state": {
            "_dom_classes": [],
            "_model_module": "@jupyter-widgets/controls",
            "_model_module_version": "1.5.0",
            "_model_name": "FloatProgressModel",
            "_view_count": null,
            "_view_module": "@jupyter-widgets/controls",
            "_view_module_version": "1.5.0",
            "_view_name": "ProgressView",
            "bar_style": "success",
            "description": "",
            "description_tooltip": null,
            "layout": "IPY_MODEL_4beca4a49af74c328a1087c1e390eb44",
            "max": 5,
            "min": 0,
            "orientation": "horizontal",
            "style": "IPY_MODEL_291d5413a8cd4ebcb5d029f7a57036a5",
            "value": 5
          }
        },
        "57b90ad0264c4b42af3d02b7c54471cf": {
          "model_module": "@jupyter-widgets/base",
          "model_module_version": "1.2.0",
          "model_name": "LayoutModel",
          "state": {
            "_model_module": "@jupyter-widgets/base",
            "_model_module_version": "1.2.0",
            "_model_name": "LayoutModel",
            "_view_count": null,
            "_view_module": "@jupyter-widgets/base",
            "_view_module_version": "1.2.0",
            "_view_name": "LayoutView",
            "align_content": null,
            "align_items": null,
            "align_self": null,
            "border": null,
            "bottom": null,
            "display": null,
            "flex": null,
            "flex_flow": null,
            "grid_area": null,
            "grid_auto_columns": null,
            "grid_auto_flow": null,
            "grid_auto_rows": null,
            "grid_column": null,
            "grid_gap": null,
            "grid_row": null,
            "grid_template_areas": null,
            "grid_template_columns": null,
            "grid_template_rows": null,
            "height": null,
            "justify_content": null,
            "justify_items": null,
            "left": null,
            "margin": null,
            "max_height": null,
            "max_width": null,
            "min_height": null,
            "min_width": null,
            "object_fit": null,
            "object_position": null,
            "order": null,
            "overflow": null,
            "overflow_x": null,
            "overflow_y": null,
            "padding": null,
            "right": null,
            "top": null,
            "visibility": null,
            "width": null
          }
        },
        "5e8b89f78c5a426c9d52be4dd9ad6ac5": {
          "model_module": "@jupyter-widgets/controls",
          "model_module_version": "1.5.0",
          "model_name": "DescriptionStyleModel",
          "state": {
            "_model_module": "@jupyter-widgets/controls",
            "_model_module_version": "1.5.0",
            "_model_name": "DescriptionStyleModel",
            "_view_count": null,
            "_view_module": "@jupyter-widgets/base",
            "_view_module_version": "1.2.0",
            "_view_name": "StyleView",
            "description_width": ""
          }
        },
        "69cdd937ff0a4786a9ed3824daf6f92d": {
          "model_module": "@jupyter-widgets/base",
          "model_module_version": "1.2.0",
          "model_name": "LayoutModel",
          "state": {
            "_model_module": "@jupyter-widgets/base",
            "_model_module_version": "1.2.0",
            "_model_name": "LayoutModel",
            "_view_count": null,
            "_view_module": "@jupyter-widgets/base",
            "_view_module_version": "1.2.0",
            "_view_name": "LayoutView",
            "align_content": null,
            "align_items": null,
            "align_self": null,
            "border": null,
            "bottom": null,
            "display": null,
            "flex": null,
            "flex_flow": null,
            "grid_area": null,
            "grid_auto_columns": null,
            "grid_auto_flow": null,
            "grid_auto_rows": null,
            "grid_column": null,
            "grid_gap": null,
            "grid_row": null,
            "grid_template_areas": null,
            "grid_template_columns": null,
            "grid_template_rows": null,
            "height": null,
            "justify_content": null,
            "justify_items": null,
            "left": null,
            "margin": null,
            "max_height": null,
            "max_width": null,
            "min_height": null,
            "min_width": null,
            "object_fit": null,
            "object_position": null,
            "order": null,
            "overflow": null,
            "overflow_x": null,
            "overflow_y": null,
            "padding": null,
            "right": null,
            "top": null,
            "visibility": null,
            "width": null
          }
        },
        "abe299362ac240c1ac2120d3ba09d98c": {
          "model_module": "@jupyter-widgets/controls",
          "model_module_version": "1.5.0",
          "model_name": "HBoxModel",
          "state": {
            "_dom_classes": [],
            "_model_module": "@jupyter-widgets/controls",
            "_model_module_version": "1.5.0",
            "_model_name": "HBoxModel",
            "_view_count": null,
            "_view_module": "@jupyter-widgets/controls",
            "_view_module_version": "1.5.0",
            "_view_name": "HBoxView",
            "box_style": "",
            "children": [
              "IPY_MODEL_0e1fbd520e6340f988a86587c04288fa",
              "IPY_MODEL_5224228b2eb24aabb4fc862928ba3927",
              "IPY_MODEL_bac817d8105046b296549f6f95589b59"
            ],
            "layout": "IPY_MODEL_57b90ad0264c4b42af3d02b7c54471cf"
          }
        },
        "bac817d8105046b296549f6f95589b59": {
          "model_module": "@jupyter-widgets/controls",
          "model_module_version": "1.5.0",
          "model_name": "HTMLModel",
          "state": {
            "_dom_classes": [],
            "_model_module": "@jupyter-widgets/controls",
            "_model_module_version": "1.5.0",
            "_model_name": "HTMLModel",
            "_view_count": null,
            "_view_module": "@jupyter-widgets/controls",
            "_view_module_version": "1.5.0",
            "_view_name": "HTMLView",
            "description": "",
            "description_tooltip": null,
            "layout": "IPY_MODEL_c168b3b9b8744a97aa762508ad225a7b",
            "placeholder": "​",
            "style": "IPY_MODEL_3cac6b767cdb4dd0891dea2d6ffe6470",
            "value": " 5/5 [43:31&lt;00:00, 439.95s/it]"
          }
        },
        "c168b3b9b8744a97aa762508ad225a7b": {
          "model_module": "@jupyter-widgets/base",
          "model_module_version": "1.2.0",
          "model_name": "LayoutModel",
          "state": {
            "_model_module": "@jupyter-widgets/base",
            "_model_module_version": "1.2.0",
            "_model_name": "LayoutModel",
            "_view_count": null,
            "_view_module": "@jupyter-widgets/base",
            "_view_module_version": "1.2.0",
            "_view_name": "LayoutView",
            "align_content": null,
            "align_items": null,
            "align_self": null,
            "border": null,
            "bottom": null,
            "display": null,
            "flex": null,
            "flex_flow": null,
            "grid_area": null,
            "grid_auto_columns": null,
            "grid_auto_flow": null,
            "grid_auto_rows": null,
            "grid_column": null,
            "grid_gap": null,
            "grid_row": null,
            "grid_template_areas": null,
            "grid_template_columns": null,
            "grid_template_rows": null,
            "height": null,
            "justify_content": null,
            "justify_items": null,
            "left": null,
            "margin": null,
            "max_height": null,
            "max_width": null,
            "min_height": null,
            "min_width": null,
            "object_fit": null,
            "object_position": null,
            "order": null,
            "overflow": null,
            "overflow_x": null,
            "overflow_y": null,
            "padding": null,
            "right": null,
            "top": null,
            "visibility": null,
            "width": null
          }
        }
      }
    }
  },
  "nbformat": 4,
  "nbformat_minor": 0
}
